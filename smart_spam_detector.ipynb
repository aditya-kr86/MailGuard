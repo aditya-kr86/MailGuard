{
 "cells": [
  {
   "cell_type": "markdown",
   "id": "e6785e9b",
   "metadata": {},
   "source": [
    "MACHINE LEARNING MODEL IMPLEMENTATION    \n",
    "INSTRUCTIONS:\n",
    "\n",
    "CREATE A PREDICTIVE MODEL USING SCIKIT-LEARN TO CLASSIFY OR PREDICT OUTCOMES FROM A DATASET (E.G., SPAM EMAIL DETECTION).\n",
    "\n",
    "DELIVERABLE: A JUPYTER NOTEBOOK SHOWCASING THE MODEL'S IMPLEMENTATION AND EVALUATION."
   ]
  },
  {
   "cell_type": "markdown",
   "id": "5cad52e2",
   "metadata": {},
   "source": [
    "# 1. Import Libraries"
   ]
  },
  {
   "cell_type": "code",
   "execution_count": 16,
   "id": "0ce08ec5",
   "metadata": {},
   "outputs": [
    {
     "name": "stderr",
     "output_type": "stream",
     "text": [
      "[nltk_data] Downloading package stopwords to\n",
      "[nltk_data]     C:\\Users\\adity\\AppData\\Roaming\\nltk_data...\n",
      "[nltk_data]   Package stopwords is already up-to-date!\n",
      "[nltk_data] Downloading package wordnet to\n",
      "[nltk_data]     C:\\Users\\adity\\AppData\\Roaming\\nltk_data...\n",
      "[nltk_data]   Package wordnet is already up-to-date!\n"
     ]
    },
    {
     "data": {
      "text/plain": [
       "True"
      ]
     },
     "execution_count": 16,
     "metadata": {},
     "output_type": "execute_result"
    }
   ],
   "source": [
    "import pandas as pd\n",
    "import numpy as np\n",
    "import seaborn as sns\n",
    "import matplotlib.pyplot as plt\n",
    "\n",
    "from sklearn.model_selection import train_test_split, GridSearchCV\n",
    "from sklearn.feature_extraction.text import TfidfVectorizer\n",
    "from sklearn.pipeline import Pipeline\n",
    "from sklearn.naive_bayes import MultinomialNB\n",
    "from sklearn.linear_model import LogisticRegression\n",
    "from sklearn.ensemble import RandomForestClassifier\n",
    "\n",
    "from sklearn.metrics import accuracy_score, classification_report, confusion_matrix, roc_auc_score, roc_curve, precision_recall_curve\n",
    "import joblib\n",
    "\n",
    "import nltk\n",
    "from nltk.corpus import stopwords\n",
    "from nltk.stem import WordNetLemmatizer\n",
    "import re\n",
    "import string\n",
    "\n",
    "nltk.download('stopwords')\n",
    "nltk.download('wordnet')\n"
   ]
  },
  {
   "cell_type": "markdown",
   "id": "a2e211e6",
   "metadata": {},
   "source": [
    "# 2. Data Cleaning & Preprocessing"
   ]
  },
  {
   "cell_type": "code",
   "execution_count": 17,
   "id": "b411380f",
   "metadata": {},
   "outputs": [],
   "source": [
    "df = pd.read_csv('spam.csv', encoding='latin-1')[['v1', 'v2']]\n",
    "df.columns = ['label', 'text']\n",
    "df['label'] = df['label'].map({'ham': 0, 'spam': 1})\n",
    "\n",
    "lemmatizer = WordNetLemmatizer()\n",
    "stop_words = set(stopwords.words('english'))\n",
    "\n",
    "def preprocess(text):\n",
    "    text = text.lower()\n",
    "    text = re.sub(r'\\d+', '', text)\n",
    "    text = text.translate(str.maketrans('', '', string.punctuation))\n",
    "    tokens = text.split()\n",
    "    tokens = [lemmatizer.lemmatize(word) for word in tokens if word not in stop_words]\n",
    "    return ' '.join(tokens)\n",
    "\n",
    "df['clean_text'] = df['text'].apply(preprocess)\n"
   ]
  },
  {
   "cell_type": "markdown",
   "id": "215c4ca8",
   "metadata": {},
   "source": [
    "# 3. Train-Test Split"
   ]
  },
  {
   "cell_type": "code",
   "execution_count": 18,
   "id": "5d54b093",
   "metadata": {},
   "outputs": [],
   "source": [
    "X = df['clean_text']\n",
    "y = df['label']\n",
    "\n",
    "X_train, X_test, y_train, y_test = train_test_split(X, y, test_size=0.2, random_state=42)\n"
   ]
  },
  {
   "cell_type": "markdown",
   "id": "3d3af628",
   "metadata": {},
   "source": [
    "# 4. TF-IDF Vectorizer"
   ]
  },
  {
   "cell_type": "code",
   "execution_count": 19,
   "id": "6e133ade",
   "metadata": {},
   "outputs": [],
   "source": [
    "tfidf = TfidfVectorizer(\n",
    "    max_features=3000,\n",
    "    ngram_range=(1, 2),                  # include bigrams\n",
    "    stop_words='english',                # removes common words\n",
    "    lowercase=True\n",
    ")\n",
    "\n",
    "X_train_vec = tfidf.fit_transform(X_train)\n",
    "X_test_vec = tfidf.transform(X_test)"
   ]
  },
  {
   "cell_type": "markdown",
   "id": "2de48a2e",
   "metadata": {},
   "source": [
    "# 5. Train Multiple Models"
   ]
  },
  {
   "cell_type": "code",
   "execution_count": 20,
   "id": "53306dd9",
   "metadata": {},
   "outputs": [
    {
     "name": "stdout",
     "output_type": "stream",
     "text": [
      "\n",
      "Model: Naive Bayes\n",
      "Accuracy: 0.9704035874439462\n",
      "F1 Score:               precision    recall  f1-score   support\n",
      "\n",
      "         Ham       0.97      1.00      0.98       965\n",
      "        Spam       0.99      0.79      0.88       150\n",
      "\n",
      "    accuracy                           0.97      1115\n",
      "   macro avg       0.98      0.89      0.93      1115\n",
      "weighted avg       0.97      0.97      0.97      1115\n",
      "\n",
      "\n",
      "Model: Logistic Regression\n",
      "Accuracy: 0.9757847533632287\n",
      "F1 Score:               precision    recall  f1-score   support\n",
      "\n",
      "         Ham       0.98      0.99      0.99       965\n",
      "        Spam       0.92      0.90      0.91       150\n",
      "\n",
      "    accuracy                           0.98      1115\n",
      "   macro avg       0.95      0.94      0.95      1115\n",
      "weighted avg       0.98      0.98      0.98      1115\n",
      "\n",
      "\n",
      "Model: Random Forest\n",
      "Accuracy: 0.9713004484304932\n",
      "F1 Score:               precision    recall  f1-score   support\n",
      "\n",
      "         Ham       0.97      1.00      0.98       965\n",
      "        Spam       0.99      0.79      0.88       150\n",
      "\n",
      "    accuracy                           0.97      1115\n",
      "   macro avg       0.98      0.90      0.93      1115\n",
      "weighted avg       0.97      0.97      0.97      1115\n",
      "\n"
     ]
    }
   ],
   "source": [
    "\n",
    "models = {\n",
    "    \"Naive Bayes\": MultinomialNB(),\n",
    "    \"Logistic Regression\": LogisticRegression(max_iter=1000, class_weight='balanced'),\n",
    "    \"Random Forest\": RandomForestClassifier(n_estimators=100, class_weight='balanced')\n",
    "}\n",
    "\n",
    "\n",
    "for name, model in models.items():\n",
    "    model.fit(X_train_vec, y_train)\n",
    "    y_pred = model.predict(X_test_vec)\n",
    "    print(f\"\\nModel: {name}\")\n",
    "    print(\"Accuracy:\", accuracy_score(y_test, y_pred))\n",
    "    print(\"F1 Score:\", classification_report(y_test, y_pred, target_names=[\"Ham\", \"Spam\"]))"
   ]
  },
  {
   "cell_type": "markdown",
   "id": "4d23b46c",
   "metadata": {},
   "source": [
    "# 6. Hyperparameter Tuning (Example: Logistic Regression)"
   ]
  },
  {
   "cell_type": "code",
   "execution_count": 21,
   "id": "bfb28867",
   "metadata": {},
   "outputs": [
    {
     "name": "stdout",
     "output_type": "stream",
     "text": [
      "Best Score: 0.9779251435058086\n",
      "Best Params: {'clf__C': 10, 'clf__penalty': 'l2'}\n"
     ]
    }
   ],
   "source": [
    "pipeline = Pipeline([\n",
    "    # ('tfidf', TfidfVectorizer(max_features=3000)),\n",
    "    ('tfidf', TfidfVectorizer(stop_words='english', ngram_range=(1,2), max_df=0.9)),\n",
    "    ('clf', LogisticRegression())\n",
    "])\n",
    "\n",
    "params = {\n",
    "    'clf__C': [0.01, 0.1, 1, 10],\n",
    "    'clf__penalty': ['l2']\n",
    "}\n",
    "\n",
    "grid = GridSearchCV(pipeline, params, cv=5, scoring='accuracy')\n",
    "grid.fit(X, y)\n",
    "\n",
    "print(\"Best Score:\", grid.best_score_)\n",
    "print(\"Best Params:\", grid.best_params_)"
   ]
  },
  {
   "cell_type": "markdown",
   "id": "9073cab7",
   "metadata": {},
   "source": [
    "# 7. Confusion Matrix and ROC Curve"
   ]
  },
  {
   "cell_type": "code",
   "execution_count": 22,
   "id": "63b58412",
   "metadata": {},
   "outputs": [
    {
     "data": {
      "image/png": "[encoded data removed]",
      "text/plain": [
       "<Figure size 640x480 with 2 Axes>"
      ]
     },
     "metadata": {},
     "output_type": "display_data"
    },
    {
     "data": {
      "image/png": "[encoded data removed]",
      "text/plain": [
       "<Figure size 640x480 with 1 Axes>"
      ]
     },
     "metadata": {},
     "output_type": "display_data"
    }
   ],
   "source": [
    "from sklearn.metrics import ConfusionMatrixDisplay, RocCurveDisplay\n",
    "\n",
    "\n",
    "best_model = models[\"Logistic Regression\"]\n",
    "ConfusionMatrixDisplay.from_estimator(best_model, X_test_vec, y_test)\n",
    "plt.title(\"Confusion Matrix\")\n",
    "plt.show()\n",
    "\n",
    "RocCurveDisplay.from_estimator(best_model, X_test_vec, y_test)\n",
    "plt.title(\"ROC Curve\")\n",
    "plt.show()"
   ]
  },
  {
   "cell_type": "code",
   "execution_count": 23,
   "id": "ddcf2973",
   "metadata": {},
   "outputs": [
    {
     "name": "stdout",
     "output_type": "stream",
     "text": [
      "Accuracy: 0.9757847533632287\n",
      "\n",
      "Classification Report:\n",
      "               precision    recall  f1-score   support\n",
      "\n",
      "           0       0.98      0.99      0.99       965\n",
      "           1       0.92      0.90      0.91       150\n",
      "\n",
      "    accuracy                           0.98      1115\n",
      "   macro avg       0.95      0.94      0.95      1115\n",
      "weighted avg       0.98      0.98      0.98      1115\n",
      "\n",
      "\n",
      "Confusion Matrix:\n",
      " [[953  12]\n",
      " [ 15 135]]\n",
      "\n",
      "ROC AUC Score: 0.9844006908462868\n"
     ]
    }
   ],
   "source": [
    "# Assuming you've already trained best_model (e.g., Logistic Regression with class_weight='balanced')\n",
    "\n",
    "from sklearn.metrics import accuracy_score, classification_report, confusion_matrix, roc_auc_score\n",
    "\n",
    "# Predict on test set\n",
    "y_pred = best_model.predict(X_test_vec)\n",
    "y_probs = best_model.predict_proba(X_test_vec)[:, 1]  # Get probability of class \"1\" (spam)\n",
    "\n",
    "# Print Evaluation Metrics\n",
    "print(\"Accuracy:\", accuracy_score(y_test, y_pred))\n",
    "print(\"\\nClassification Report:\\n\", classification_report(y_test, y_pred))\n",
    "print(\"\\nConfusion Matrix:\\n\", confusion_matrix(y_test, y_pred))\n",
    "\n",
    "# ROC AUC Score\n",
    "roc_auc = roc_auc_score(y_test, y_probs)\n",
    "print(\"\\nROC AUC Score:\", roc_auc)\n"
   ]
  },
  {
   "cell_type": "markdown",
   "id": "7b7cf449",
   "metadata": {},
   "source": [
    "# 8. Save Final Model"
   ]
  },
  {
   "cell_type": "code",
   "execution_count": 24,
   "id": "398cc91e",
   "metadata": {},
   "outputs": [
    {
     "data": {
      "text/plain": [
       "['spam_classifier.pkl']"
      ]
     },
     "execution_count": 24,
     "metadata": {},
     "output_type": "execute_result"
    }
   ],
   "source": [
    "joblib.dump(tfidf, 'tfidf_vectorizer.pkl')\n",
    "joblib.dump(best_model, 'spam_classifier.pkl')"
   ]
  },
  {
   "cell_type": "markdown",
   "id": "3847af91",
   "metadata": {},
   "source": [
    "# 9. Custom Prediction"
   ]
  },
  {
   "cell_type": "code",
   "execution_count": 25,
   "id": "4e09600e",
   "metadata": {},
   "outputs": [],
   "source": [
    "def predict_message(msg, threshold=0.3):\n",
    "    cleaned = preprocess(msg)\n",
    "    vec = tfidf.transform([cleaned])\n",
    "    prob = best_model.predict_proba(vec)[0][1]\n",
    "    print(f\"Spam Probability: {prob:.2f}\")\n",
    "    return \"Spam\" if prob > threshold else \"Not Spam\"\n"
   ]
  },
  {
   "cell_type": "code",
   "execution_count": 26,
   "id": "32fbfe34",
   "metadata": {},
   "outputs": [
    {
     "name": "stdout",
     "output_type": "stream",
     "text": [
      "Spam Probability: 0.71\n",
      "Spam\n"
     ]
    }
   ],
   "source": [
    "print(predict_message(\"Congratulations! You've won $1000 Walmart gift card. Click here to claim.\"))\n"
   ]
  },
  {
   "cell_type": "code",
   "execution_count": 27,
   "id": "67e00831",
   "metadata": {},
   "outputs": [],
   "source": [
    "spam_messages = [\n",
    "    \"Congratulations! You've been selected to win a free iPhone. Click the link to claim now.\",\n",
    "    \"You have won ₹10,00,000 in the lucky draw! Claim your prize now.\",\n",
    "    \"URGENT: Your account has been suspended. Click here to verify your information.\",\n",
    "    \"FREE entry into our weekly $1000 giveaway! Reply YES to enter.\",\n",
    "    \"Get cheap loans now! No credit check required. Limited time offer.\",\n",
    "    \"Hot singles in your area are waiting for you. Click to meet now.\",\n",
    "    \"Dear user, you have a pending refund of ₹2,500. Click here to receive.\",\n",
    "    \"Earn ₹50,000/week from home! Sign up now for your free trial.\",\n",
    "    \"Your Paytm KYC is incomplete. Click the link to update immediately.\",\n",
    "    \"Final reminder: You have an unclaimed Amazon gift card worth ₹2000!\"\n",
    "]\n"
   ]
  },
  {
   "cell_type": "code",
   "execution_count": 28,
   "id": "dfe0cf65",
   "metadata": {},
   "outputs": [],
   "source": [
    "ham_messages = [\n",
    "    \"Hey, are we still meeting for lunch today at 1 PM?\",\n",
    "    \"Don't forget to bring your laptop for the presentation tomorrow.\",\n",
    "    \"Good morning! Just wanted to check in and see how you're doing.\",\n",
    "    \"Can you please send me the notes from yesterday’s class?\",\n",
    "    \"I'll be late to the meeting, stuck in traffic. Sorry!\"\n",
    "]\n"
   ]
  },
  {
   "cell_type": "code",
   "execution_count": 29,
   "id": "d495c771",
   "metadata": {},
   "outputs": [
    {
     "name": "stdout",
     "output_type": "stream",
     "text": [
      "🔴 SPAM MESSAGES:\n",
      "\n",
      "> Congratulations! You've been selected to win a free iPhone. Click the link to claim now.\n",
      "Spam Probability: 0.96\n",
      "Prediction: Spam\n",
      "--------------------------------------------------\n",
      "> You have won ₹10,00,000 in the lucky draw! Claim your prize now.\n",
      "Spam Probability: 0.93\n",
      "Prediction: Spam\n",
      "--------------------------------------------------\n",
      "> URGENT: Your account has been suspended. Click here to verify your information.\n",
      "Spam Probability: 0.73\n",
      "Prediction: Spam\n",
      "--------------------------------------------------\n",
      "> FREE entry into our weekly $1000 giveaway! Reply YES to enter.\n",
      "Spam Probability: 0.89\n",
      "Prediction: Spam\n",
      "--------------------------------------------------\n",
      "> Get cheap loans now! No credit check required. Limited time offer.\n",
      "Spam Probability: 0.48\n",
      "Prediction: Spam\n",
      "--------------------------------------------------\n",
      "> Hot singles in your area are waiting for you. Click to meet now.\n",
      "Spam Probability: 0.47\n",
      "Prediction: Spam\n",
      "--------------------------------------------------\n",
      "> Dear user, you have a pending refund of ₹2,500. Click here to receive.\n",
      "Spam Probability: 0.54\n",
      "Prediction: Spam\n",
      "--------------------------------------------------\n",
      "> Earn ₹50,000/week from home! Sign up now for your free trial.\n",
      "Spam Probability: 0.56\n",
      "Prediction: Spam\n",
      "--------------------------------------------------\n",
      "> Your Paytm KYC is incomplete. Click the link to update immediately.\n",
      "Spam Probability: 0.55\n",
      "Prediction: Spam\n",
      "--------------------------------------------------\n",
      "> Final reminder: You have an unclaimed Amazon gift card worth ₹2000!\n",
      "Spam Probability: 0.50\n",
      "Prediction: Spam\n",
      "--------------------------------------------------\n",
      "\n",
      "🟢 HAM MESSAGES:\n",
      "\n",
      "> Hey, are we still meeting for lunch today at 1 PM?\n",
      "Spam Probability: 0.08\n",
      "Prediction: Not Spam\n",
      "--------------------------------------------------\n",
      "> Don't forget to bring your laptop for the presentation tomorrow.\n",
      "Spam Probability: 0.14\n",
      "Prediction: Not Spam\n",
      "--------------------------------------------------\n",
      "> Good morning! Just wanted to check in and see how you're doing.\n",
      "Spam Probability: 0.05\n",
      "Prediction: Not Spam\n",
      "--------------------------------------------------\n",
      "> Can you please send me the notes from yesterday’s class?\n",
      "Spam Probability: 0.15\n",
      "Prediction: Not Spam\n",
      "--------------------------------------------------\n",
      "> I'll be late to the meeting, stuck in traffic. Sorry!\n",
      "Spam Probability: 0.04\n",
      "Prediction: Not Spam\n",
      "--------------------------------------------------\n"
     ]
    }
   ],
   "source": [
    "print(\"🔴 SPAM MESSAGES:\\n\")\n",
    "for msg in spam_messages:\n",
    "    print(f\"> {msg}\")\n",
    "    print(\"Prediction:\", predict_message(msg))\n",
    "    print(\"-\" * 50)\n",
    "\n",
    "print(\"\\n🟢 HAM MESSAGES:\\n\")\n",
    "for msg in ham_messages:\n",
    "    print(f\"> {msg}\")\n",
    "    print(\"Prediction:\", predict_message(msg))\n",
    "    print(\"-\" * 50)\n"
   ]
  },
  {
   "cell_type": "code",
   "execution_count": 30,
   "id": "4a84da15",
   "metadata": {},
   "outputs": [
    {
     "name": "stdout",
     "output_type": "stream",
     "text": [
      "Spam Probability: 0.96\n",
      "Spam Probability: 0.93\n",
      "Spam Probability: 0.73\n",
      "Spam Probability: 0.89\n",
      "Spam Probability: 0.48\n",
      "Spam Probability: 0.47\n",
      "Spam Probability: 0.54\n",
      "Spam Probability: 0.56\n",
      "Spam Probability: 0.55\n",
      "Spam Probability: 0.50\n",
      "Spam Probability: 0.08\n",
      "Spam Probability: 0.14\n",
      "Spam Probability: 0.05\n",
      "Spam Probability: 0.15\n",
      "Spam Probability: 0.04\n"
     ]
    },
    {
     "data": {
      "text/html": [
       "<div>\n",
       "<style scoped>\n",
       "    .dataframe tbody tr th:only-of-type {\n",
       "        vertical-align: middle;\n",
       "    }\n",
       "\n",
       "    .dataframe tbody tr th {\n",
       "        vertical-align: top;\n",
       "    }\n",
       "\n",
       "    .dataframe thead th {\n",
       "        text-align: right;\n",
       "    }\n",
       "</style>\n",
       "<table border=\"1\" class=\"dataframe\">\n",
       "  <thead>\n",
       "    <tr style=\"text-align: right;\">\n",
       "      <th></th>\n",
       "      <th>Message</th>\n",
       "      <th>Predicted Label</th>\n",
       "    </tr>\n",
       "  </thead>\n",
       "  <tbody>\n",
       "    <tr>\n",
       "      <th>0</th>\n",
       "      <td>Congratulations! You've been selected to win a...</td>\n",
       "      <td>Spam</td>\n",
       "    </tr>\n",
       "    <tr>\n",
       "      <th>1</th>\n",
       "      <td>You have won ₹10,00,000 in the lucky draw! Cla...</td>\n",
       "      <td>Spam</td>\n",
       "    </tr>\n",
       "    <tr>\n",
       "      <th>2</th>\n",
       "      <td>URGENT: Your account has been suspended. Click...</td>\n",
       "      <td>Spam</td>\n",
       "    </tr>\n",
       "    <tr>\n",
       "      <th>3</th>\n",
       "      <td>FREE entry into our weekly $1000 giveaway! Rep...</td>\n",
       "      <td>Spam</td>\n",
       "    </tr>\n",
       "    <tr>\n",
       "      <th>4</th>\n",
       "      <td>Get cheap loans now! No credit check required....</td>\n",
       "      <td>Spam</td>\n",
       "    </tr>\n",
       "    <tr>\n",
       "      <th>5</th>\n",
       "      <td>Hot singles in your area are waiting for you. ...</td>\n",
       "      <td>Spam</td>\n",
       "    </tr>\n",
       "    <tr>\n",
       "      <th>6</th>\n",
       "      <td>Dear user, you have a pending refund of ₹2,500...</td>\n",
       "      <td>Spam</td>\n",
       "    </tr>\n",
       "    <tr>\n",
       "      <th>7</th>\n",
       "      <td>Earn ₹50,000/week from home! Sign up now for y...</td>\n",
       "      <td>Spam</td>\n",
       "    </tr>\n",
       "    <tr>\n",
       "      <th>8</th>\n",
       "      <td>Your Paytm KYC is incomplete. Click the link t...</td>\n",
       "      <td>Spam</td>\n",
       "    </tr>\n",
       "    <tr>\n",
       "      <th>9</th>\n",
       "      <td>Final reminder: You have an unclaimed Amazon g...</td>\n",
       "      <td>Spam</td>\n",
       "    </tr>\n",
       "    <tr>\n",
       "      <th>10</th>\n",
       "      <td>Hey, are we still meeting for lunch today at 1...</td>\n",
       "      <td>Not Spam</td>\n",
       "    </tr>\n",
       "    <tr>\n",
       "      <th>11</th>\n",
       "      <td>Don't forget to bring your laptop for the pres...</td>\n",
       "      <td>Not Spam</td>\n",
       "    </tr>\n",
       "    <tr>\n",
       "      <th>12</th>\n",
       "      <td>Good morning! Just wanted to check in and see ...</td>\n",
       "      <td>Not Spam</td>\n",
       "    </tr>\n",
       "    <tr>\n",
       "      <th>13</th>\n",
       "      <td>Can you please send me the notes from yesterda...</td>\n",
       "      <td>Not Spam</td>\n",
       "    </tr>\n",
       "    <tr>\n",
       "      <th>14</th>\n",
       "      <td>I'll be late to the meeting, stuck in traffic....</td>\n",
       "      <td>Not Spam</td>\n",
       "    </tr>\n",
       "  </tbody>\n",
       "</table>\n",
       "</div>"
      ],
      "text/plain": [
       "                                              Message Predicted Label\n",
       "0   Congratulations! You've been selected to win a...            Spam\n",
       "1   You have won ₹10,00,000 in the lucky draw! Cla...            Spam\n",
       "2   URGENT: Your account has been suspended. Click...            Spam\n",
       "3   FREE entry into our weekly $1000 giveaway! Rep...            Spam\n",
       "4   Get cheap loans now! No credit check required....            Spam\n",
       "5   Hot singles in your area are waiting for you. ...            Spam\n",
       "6   Dear user, you have a pending refund of ₹2,500...            Spam\n",
       "7   Earn ₹50,000/week from home! Sign up now for y...            Spam\n",
       "8   Your Paytm KYC is incomplete. Click the link t...            Spam\n",
       "9   Final reminder: You have an unclaimed Amazon g...            Spam\n",
       "10  Hey, are we still meeting for lunch today at 1...        Not Spam\n",
       "11  Don't forget to bring your laptop for the pres...        Not Spam\n",
       "12  Good morning! Just wanted to check in and see ...        Not Spam\n",
       "13  Can you please send me the notes from yesterda...        Not Spam\n",
       "14  I'll be late to the meeting, stuck in traffic....        Not Spam"
      ]
     },
     "execution_count": 30,
     "metadata": {},
     "output_type": "execute_result"
    }
   ],
   "source": [
    "import pandas as pd\n",
    "\n",
    "test_msgs = spam_messages + ham_messages\n",
    "results = [predict_message(msg) for msg in test_msgs]\n",
    "\n",
    "df_test = pd.DataFrame({\n",
    "    'Message': test_msgs,\n",
    "    'Predicted Label': results\n",
    "})\n",
    "\n",
    "df_test.head(15)\n"
   ]
  }
 ],
 "metadata": {
  "kernelspec": {
   "display_name": "Python 3",
   "language": "python",
   "name": "python3"
  },
  "language_info": {
   "codemirror_mode": {
    "name": "ipython",
    "version": 3
   },
   "file_extension": ".py",
   "mimetype": "text/x-python",
   "name": "python",
   "nbconvert_exporter": "python",
   "pygments_lexer": "ipython3",
   "version": "3.13.1"
  }
 },
 "nbformat": 4,
 "nbformat_minor": 5
}
